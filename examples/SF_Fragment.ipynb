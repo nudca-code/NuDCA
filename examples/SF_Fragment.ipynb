{
 "cells": [
  {
   "cell_type": "code",
   "execution_count": 1,
   "metadata": {},
   "outputs": [],
   "source": []
  },
  {
   "cell_type": "code",
   "execution_count": 10,
   "metadata": {},
   "outputs": [
    {
     "name": "stdout",
     "output_type": "stream",
     "text": [
      "8.7e-08\n"
     ]
    },
    {
     "name": "stderr",
     "output_type": "stream",
     "text": [
      "C:\\Users\\Maxwell\\AppData\\Local\\Temp\\ipykernel_28944\\2125310257.py:24: SettingWithCopyWarning: \n",
      "A value is trying to be set on a copy of a slice from a DataFrame.\n",
      "Try using .loc[row_indexer,col_indexer] = value instead\n",
      "\n",
      "See the caveats in the documentation: https://pandas.pydata.org/pandas-docs/stable/user_guide/indexing.html#returning-a-view-versus-a-copy\n",
      "  df_sf['Ratios'] = df_sf['Probability'].apply(lambda x: x * 0.000000087)\n",
      "C:\\Users\\Maxwell\\AppData\\Local\\Temp\\ipykernel_28944\\2125310257.py:38: SettingWithCopyWarning: \n",
      "A value is trying to be set on a copy of a slice from a DataFrame.\n",
      "Try using .loc[row_indexer,col_indexer] = value instead\n",
      "\n",
      "See the caveats in the documentation: https://pandas.pydata.org/pandas-docs/stable/user_guide/indexing.html#returning-a-view-versus-a-copy\n",
      "  df['Fragment'] = [fragments_list]\n",
      "C:\\Users\\Maxwell\\AppData\\Local\\Temp\\ipykernel_28944\\2125310257.py:39: SettingWithCopyWarning: \n",
      "A value is trying to be set on a copy of a slice from a DataFrame.\n",
      "Try using .loc[row_indexer,col_indexer] = value instead\n",
      "\n",
      "See the caveats in the documentation: https://pandas.pydata.org/pandas-docs/stable/user_guide/indexing.html#returning-a-view-versus-a-copy\n",
      "  df['Ratios'] = [ratios_list]\n"
     ]
    }
   ],
   "source": [
    "import sys\n",
    "from pathlib import Path\n",
    "sys.path.insert(1, str(Path.cwd().resolve().parent))\n",
    "\n",
    "import numpy as np\n",
    "import pandas as pd\n",
    "import matplotlib.pyplot as plt\n",
    "\n",
    "from nudca.utils import DecayDatabaseManager\n",
    "\n",
    "df_sf = pd.read_csv(Path.cwd().resolve().parent.joinpath('data/ENDF-B-VIII.1_SF.csv'))\n",
    "df_sf = DecayDatabaseManager.parse_string_to_list(df_sf, 'Mass_Number')\n",
    "df_sf = DecayDatabaseManager.parse_string_to_list(df_sf, 'Proton_Number')\n",
    "df_sf = DecayDatabaseManager.parse_string_to_list(df_sf, 'Yield')\n",
    "df_df = DecayDatabaseManager.parse_string_to_list(df_sf, 'Fragment')\n",
    "\n",
    "df_sf.sort_values(by=['A', 'Z'], ascending=True, inplace=True)\n",
    "\n",
    "df_sf['Yield_sum'] = df_sf['Yield'].apply(sum)\n",
    "df_sf['Probability'] = df_sf['Yield'].apply(lambda x: x / np.sum(x))\n",
    "df_sf['Probability_sum'] = df_sf['Probability'].apply(sum)\n",
    "\n",
    "df_sf = df_sf[df_sf['Radionuclide'] == 'Es-253']\n",
    "df_sf['Ratios'] = df_sf['Probability'].apply(lambda x: x * 0.000000087)\n",
    "\n",
    "ratios = df_sf['Ratios'].tolist()\n",
    "fragments = df_sf['Fragment'].tolist()\n",
    "\n",
    "ratios_list = []\n",
    "fragments_list = []\n",
    "\n",
    "for ratio, fragment in zip(ratios[0], fragments[0]):\n",
    "    if ratio > 0:\n",
    "        ratios_list.append(ratio)\n",
    "        fragments_list.append(fragment)\n",
    "\n",
    "df = df_sf[['Radionuclide', 'Fragment', 'Ratios']]\n",
    "df['Fragment'] = [fragments_list]\n",
    "df['Ratios'] = [ratios_list]\n",
    "\n",
    "df.to_json(Path.cwd().resolve().parent.joinpath('data/ENDF-B-VIII.1_SF_Fragment_filtered.json'), orient=\"records\", indent=4, double_precision=15)\n",
    "        \n",
    "print(np.sum(df['Ratios'].to_list()[0]))    \n",
    "\n",
    "\n",
    "# df.to_json(Path.cwd().resolve().parent.joinpath('data/ENDF-B-VIII.1_SF_Fragment.json'), orient=\"records\", indent=4, double_precision=15)\n",
    "\n",
    "\n"
   ]
  },
  {
   "cell_type": "code",
   "execution_count": null,
   "metadata": {},
   "outputs": [
    {
     "name": "stdout",
     "output_type": "stream",
     "text": [
      "['Cf-252', 'Cm-248', 'Pu-244', 'U-240', 'Np-240M', 'Np-240', 'Pu-240', 'U-236', 'Th-232', 'Ra-228', 'Ac-228', 'Th-228', 'Ra-224', 'Rn-220', 'Po-216', 'Pb-212', 'Bi-212', 'Po-212', 'Tl-208', 'Pb-208']\n"
     ]
    }
   ],
   "source": [
    "\n",
    "import sys\n",
    "from pathlib import Path\n",
    "sys.path.insert(0, str(Path.cwd().resolve().parent))\n",
    "\n",
    "import numpy as np\n",
    "import matplotlib.pyplot as plt\n",
    "from nudca import load_decay_database, load_decay_matrix, RadioactiveDecay\n",
    "\n",
    "decay_database = load_decay_database(data_source='ENDF-B-VIII.1_decay')\n",
    "decay_matrix = load_decay_matrix(data_source='ENDF-B-VIII.1_decay')\n",
    "\n",
    "init_Y = {'Cf252': 1.e-2}\n",
    "radioactive_decay = RadioactiveDecay( init_Y, decay_database, decay_matrix )\n",
    "\n",
    "times = np.geomspace(1.e-2, 1.e3, 10000) * 86400\n",
    "nuclides, Y = radioactive_decay.decay_nuclide_abundances(times)\n",
    "\n",
    "print(nuclides)\n",
    "\n",
    "\n",
    "# fig, ax = plt.subplots(figsize=(8, 6), dpi=300)\n",
    "# ax.plot(times/86400, Y[:, 0], label=f'{nuclides[0]}')\n",
    "# ax.plot(times/86400, Y[:, 1], label=f'{nuclides[1]}')\n",
    "# ax.plot(times/86400, Y[:, 2], label=f'{nuclides[2]}')\n",
    "\n",
    "# ax.set_xlim(1.e-2, 1.e3)\n",
    "# ax.set_ylim(1e-10, 1e-3)\n",
    "# ax.set_xscale('log')\n",
    "# ax.set_yscale('log')\n",
    "# ax.set_xlabel('Time [days]', fontsize=14)\n",
    "# ax.set_ylabel('Y', fontsize=14)\n",
    "\n",
    "# ax.legend()\n",
    "# plt.show()\n",
    "# fig.savefig('/home/yolo/NutstoreFiles/MYDOC/WEB/NuDCA/static/images/Tutorial/Y_Ni56Decay.png', dpi=300)\n"
   ]
  },
  {
   "cell_type": "code",
   "execution_count": null,
   "metadata": {},
   "outputs": [
    {
     "name": "stdout",
     "output_type": "stream",
     "text": [
      "['Cf-252', 'Cm-248', 'Pu-244', 'U-240', 'Np-240M', 'Np-240', 'Pu-240', 'U-236', 'Th-232', 'Ra-228', 'Ac-228', 'Th-228', 'Ra-224', 'Rn-220', 'Po-216', 'Pb-212', 'Bi-212', 'Po-212', 'Tl-208', 'Pb-208']\n"
     ]
    }
   ],
   "source": [
    "\n",
    "import sys\n",
    "from pathlib import Path\n",
    "sys.path.insert(0, str(Path.cwd().resolve().parent))\n",
    "\n",
    "import numpy as np\n",
    "import matplotlib.pyplot as plt\n",
    "from nudca import load_decay_database, load_decay_matrix, RadioactiveDecay\n",
    "\n",
    "decay_database = load_decay_database(data_source='ENDF-B-VIII.1_decay')\n",
    "decay_matrix = load_decay_matrix(data_source='ENDF-B-VIII.1_decay')\n",
    "\n",
    "init_Y = {'Cf252': 1.e-2}\n",
    "radioactive_decay = RadioactiveDecay( init_Y, decay_database, decay_matrix )\n",
    "\n",
    "times = np.geomspace(1.e-2, 1.e3, 10000) * 86400\n",
    "nuclides, Y = radioactive_decay.decay_nuclide_abundances(times)\n",
    "\n",
    "print(nuclides)\n",
    "\n",
    "\n",
    "# fig, ax = plt.subplots(figsize=(8, 6), dpi=300)\n",
    "# ax.plot(times/86400, Y[:, 0], label=f'{nuclides[0]}')\n",
    "# ax.plot(times/86400, Y[:, 1], label=f'{nuclides[1]}')\n",
    "# ax.plot(times/86400, Y[:, 2], label=f'{nuclides[2]}')\n",
    "\n",
    "# ax.set_xlim(1.e-2, 1.e3)\n",
    "# ax.set_ylim(1e-10, 1e-3)\n",
    "# ax.set_xscale('log')\n",
    "# ax.set_yscale('log')\n",
    "# ax.set_xlabel('Time [days]', fontsize=14)\n",
    "# ax.set_ylabel('Y', fontsize=14)\n",
    "\n",
    "# ax.legend()\n",
    "# plt.show()\n",
    "# fig.savefig('/home/yolo/NutstoreFiles/MYDOC/WEB/NuDCA/static/images/Tutorial/Y_Ni56Decay.png', dpi=300)\n"
   ]
  },
  {
   "cell_type": "code",
   "execution_count": null,
   "metadata": {},
   "outputs": [
    {
     "name": "stdout",
     "output_type": "stream",
     "text": [
      "['Cf-252', 'Cm-248', 'Pu-244', 'U-240', 'Np-240M', 'Np-240', 'Pu-240', 'U-236', 'Th-232', 'Ra-228', 'Ac-228', 'Th-228', 'Ra-224', 'Rn-220', 'Po-216', 'Pb-212', 'Bi-212', 'Po-212', 'Tl-208', 'Pb-208']\n"
     ]
    }
   ],
   "source": [
    "\n",
    "import sys\n",
    "from pathlib import Path\n",
    "sys.path.insert(0, str(Path.cwd().resolve().parent))\n",
    "\n",
    "import numpy as np\n",
    "import matplotlib.pyplot as plt\n",
    "from nudca import load_decay_database, load_decay_matrix, RadioactiveDecay\n",
    "\n",
    "decay_database = load_decay_database(data_source='ENDF-B-VIII.1_decay')\n",
    "decay_matrix = load_decay_matrix(data_source='ENDF-B-VIII.1_decay')\n",
    "\n",
    "init_Y = {'Cf252': 1.e-2}\n",
    "radioactive_decay = RadioactiveDecay( init_Y, decay_database, decay_matrix )\n",
    "\n",
    "times = np.geomspace(1.e-2, 1.e3, 10000) * 86400\n",
    "nuclides, Y = radioactive_decay.decay_nuclide_abundances(times)\n",
    "\n",
    "print(nuclides)\n",
    "\n",
    "\n",
    "# fig, ax = plt.subplots(figsize=(8, 6), dpi=300)\n",
    "# ax.plot(times/86400, Y[:, 0], label=f'{nuclides[0]}')\n",
    "# ax.plot(times/86400, Y[:, 1], label=f'{nuclides[1]}')\n",
    "# ax.plot(times/86400, Y[:, 2], label=f'{nuclides[2]}')\n",
    "\n",
    "# ax.set_xlim(1.e-2, 1.e3)\n",
    "# ax.set_ylim(1e-10, 1e-3)\n",
    "# ax.set_xscale('log')\n",
    "# ax.set_yscale('log')\n",
    "# ax.set_xlabel('Time [days]', fontsize=14)\n",
    "# ax.set_ylabel('Y', fontsize=14)\n",
    "\n",
    "# ax.legend()\n",
    "# plt.show()\n",
    "# fig.savefig('/home/yolo/NutstoreFiles/MYDOC/WEB/NuDCA/static/images/Tutorial/Y_Ni56Decay.png', dpi=300)\n"
   ]
  },
  {
   "cell_type": "code",
   "execution_count": null,
   "metadata": {},
   "outputs": [],
   "source": []
  },
  {
   "cell_type": "code",
   "execution_count": null,
   "metadata": {},
   "outputs": [],
   "source": []
  }
 ],
 "metadata": {
  "kernelspec": {
   "display_name": "Python 3",
   "language": "python",
   "name": "python3"
  },
  "language_info": {
   "codemirror_mode": {
    "name": "ipython",
    "version": 3
   },
   "file_extension": ".py",
   "mimetype": "text/x-python",
   "name": "python",
   "nbconvert_exporter": "python",
   "pygments_lexer": "ipython3",
   "version": "3.13.2"
  }
 },
 "nbformat": 4,
 "nbformat_minor": 2
}
