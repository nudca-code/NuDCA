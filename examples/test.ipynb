{
 "cells": [
  {
   "cell_type": "code",
   "execution_count": null,
   "id": "e81cc6f5",
   "metadata": {},
   "outputs": [],
   "source": [
    "import sys\n",
    "from pathlib import Path\n",
    "sys.path.insert(0, str(Path.cwd().resolve().parent))\n",
    "\n",
    "\n",
    "from pathlib import Path\n",
    "import numpy as np\n",
    "import matplotlib.pyplot as plt\n",
    "\n",
    "\n",
    "from KNdecay.radioactivedecay.decay_database import get_database\n",
    "from KNdecay.radioactivedecay.decay_matrix import get_decay_matrix\n",
    "from KNdecay.radioactivedecay.radioactive_decay import RadioactiveDecayBase\n",
    "\n",
    "decay_database = get_database(data_source='ENDF-B-VIII.1_decay')\n",
    "decay_matrix = get_decay_matrix(data_source='ENDF-B-VIII.1_decay')\n",
    "radioactive_decay = RadioactiveDecayBase( {'Ni56': 1.e-5}, decay_database, decay_matrix )\n",
    "\n",
    "\n",
    "res = radioactive_decay.decay_process(1.e2).nuclide_abundance\n",
    "\n",
    "\n",
    "print(res)\n",
    "\n",
    "\n",
    "\n",
    "\n",
    "# solar_r_abundance_path = str(Path.cwd().resolve().parent.joinpath('data/Solar_Abundance/solar_r_abundance.dat'))\n",
    "# Z, A, Y = np.loadtxt(solar_r_abundance_path, comments='#', unpack=True)\n",
    "\n",
    "# fig, ax = plt.subplots(figsize=(10, 6), dpi=150)\n",
    "# ax.plot(A, Y)\n",
    "# ax.set_xlim(65, 240)\n",
    "# ax.set_ylim(1e-8, 1e-2)\n",
    "# ax.set_yscale('log')\n",
    "# ax.set_xlabel('A')\n",
    "# ax.set_ylabel('Y')\n",
    "# plt.show()\n"
   ]
  },
  {
   "cell_type": "code",
   "execution_count": null,
   "metadata": {},
   "outputs": [],
   "source": []
  },
  {
   "cell_type": "code",
   "execution_count": 15,
   "id": "7150844f",
   "metadata": {},
   "outputs": [
    {
     "name": "stderr",
     "output_type": "stream",
     "text": [
      "<>:10: SyntaxWarning: invalid escape sequence '\\s'\n",
      "<>:22: SyntaxWarning: invalid escape sequence '\\s'\n",
      "<>:10: SyntaxWarning: invalid escape sequence '\\s'\n",
      "<>:22: SyntaxWarning: invalid escape sequence '\\s'\n",
      "C:\\Users\\Maxwell\\AppData\\Local\\Temp\\ipykernel_34528\\2125390622.py:10: SyntaxWarning: invalid escape sequence '\\s'\n",
      "  df_solar = pd.read_csv('../data/Solar_Abundance/solar_r_abundance_pattern.dat', sep='\\s+', comment='#', header=None)\n",
      "C:\\Users\\Maxwell\\AppData\\Local\\Temp\\ipykernel_34528\\2125390622.py:22: SyntaxWarning: invalid escape sequence '\\s'\n",
      "  df = pd.read_csv(filename, sep='\\s+', comment='#', header=None)\n"
     ]
    }
   ],
   "source": [
    "import sys\n",
    "from pathlib import Path\n",
    "sys.path.insert(1, str(Path.cwd().resolve().parent))\n",
    "\n",
    "import numpy as np\n",
    "import pandas as pd\n",
    "\n",
    "def get_abundance(A_min=85, A_max=209):\n",
    "\n",
    "    df_solar = pd.read_csv('../data/Solar_Abundance/solar_r_abundance_pattern.dat', sep='\\s+', comment='#', header=None)\n",
    "    df_solar.columns = ['Z', 'A', 'Y']\n",
    "\n",
    "    df_solar = df_solar[(df_solar['A'] >= A_min) & (df_solar['A'] <= A_max)]\n",
    "\n",
    "    df_solar['X'] = df_solar['Y'] * df_solar['A']\n",
    "    df_solar['X'] = df_solar['X'] / df_solar['X'].sum()\n",
    "    df_solar['Y'] = df_solar['X'] / df_solar['A']\n",
    "    \n",
    "    Z_list = []\n",
    "    for A in range(A_min, A_max+1):\n",
    "        filename = '../data/table_beta/' + str(A) + '.txt'\n",
    "        df = pd.read_csv(filename, sep='\\s+', comment='#', header=None)\n",
    "        df.columns = ['A', 'Z', 'Q', 'E_gamma', 'E_elec', 'E_neutrino', 'tau']\n",
    "        Z_list.append(df['Z'][0])\n",
    "        \n",
    "    df_solar['Z'] = Z_list\n",
    "\n",
    "    return df_solar\n",
    "\n",
    "\n",
    "df_solar = get_abundance(A_min=85, A_max=209)\n",
    "\n",
    "df_solar.to_excel('../data/solar_r_abundance_pattern.xlsx', index=False, columns=['Z', 'A', 'Y', 'X'])\n"
   ]
  },
  {
   "cell_type": "code",
   "execution_count": null,
   "id": "9507477d",
   "metadata": {},
   "outputs": [],
   "source": []
  },
  {
   "cell_type": "code",
   "execution_count": null,
   "id": "6dfd7196",
   "metadata": {},
   "outputs": [],
   "source": []
  }
 ],
 "metadata": {
  "kernelspec": {
   "display_name": "py312",
   "language": "python",
   "name": "python3"
  },
  "language_info": {
   "codemirror_mode": {
    "name": "ipython",
    "version": 3
   },
   "file_extension": ".py",
   "mimetype": "text/x-python",
   "name": "python",
   "nbconvert_exporter": "python",
   "pygments_lexer": "ipython3",
   "version": "3.12.3"
  }
 },
 "nbformat": 4,
 "nbformat_minor": 5
}
